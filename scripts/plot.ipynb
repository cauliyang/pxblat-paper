{
 "cells": [
  {
   "cell_type": "code",
   "execution_count": 31,
   "id": "f9307a69-d964-4880-acee-c727204940df",
   "metadata": {
    "editable": true,
    "slideshow": {
     "slide_type": ""
    },
    "tags": []
   },
   "outputs": [],
   "source": [
    "import matplotlib.pyplot as plt\n",
    "import numpy as np\n",
    "import pandas as pd \n",
    "\n",
    "import scienceplots\n"
   ]
  },
  {
   "cell_type": "code",
   "execution_count": 70,
   "id": "7ce0a739-db0e-4fb6-855f-175f795e1182",
   "metadata": {
    "editable": true,
    "slideshow": {
     "slide_type": ""
    },
    "tags": []
   },
   "outputs": [
    {
     "data": {
      "image/png": "[encoded data removed]",
      "text/plain": [
       "<Figure size 330x250 with 1 Axes>"
      ]
     },
     "metadata": {},
     "output_type": "display_data"
    }
   ],
   "source": [
    "\n",
    "data_df  = pd.read_csv(\"../tables/pxblat_benchmark.tsv\", sep=\"\\t\")\n",
    "data = data_df['Data']\n",
    "pxblat = data_df['PxBLAT (s)']\n",
    "blat = data_df['BLAT (s)']\n",
    "\n",
    "\n",
    "with plt.style.context('nature'):\n",
    "    \n",
    "    # Creating scatter plot\n",
    "    plt.scatter(x=data, y=pxblat, alpha=0.5 , color='blue', label='PxBLAT')\n",
    "    plt.scatter(x=data, y=blat,  alpha=0.5,  color='red', label='BLAT')\n",
    "    \n",
    "    # Calculating trend lines\n",
    "    z_pxblat = np.polyfit(data, pxblat, 1)\n",
    "    p_pxblat = np.poly1d(z_pxblat)\n",
    "    plt.plot(data, p_pxblat(data), \"b--\", linewidth=1.2, markersize=12)\n",
    "    \n",
    "    z_blat = np.polyfit(data, blat, 1)\n",
    "    p_blat = np.poly1d(z_blat)\n",
    "    plt.plot(data, p_blat(data), \"r--\", linewidth=1.2, markersize=12)\n",
    "    \n",
    "    \n",
    "    # Calculate and annotate average speedup for each data group\n",
    "    avg_speedup_per_data_group = data_df.groupby('Data')['Speedup'].mean()\n",
    "    for data_point, avg_speedup in avg_speedup_per_data_group.items():\n",
    "        plt.annotate(f\"{avg_speedup:.2f}x\", \n",
    "                     (data_point, min(data_df[data_df['Data'] == data_point]['PxBLAT (s)'])), \n",
    "                     textcoords=\"offset points\", \n",
    "                     xytext=(0,-10), \n",
    "                     ha='center', \n",
    "                     fontsize=6,\n",
    "                      color='darkgreen',\n",
    "                    )\n",
    "    \n",
    "    \n",
    "    # Adding titles and labels\n",
    "    # plt.title('Perforamnce Compare Between PxBLAT and BLAT')\n",
    "    \n",
    "    plt.xticks([50, 100, 200, 300, 400, 500, 600])\n",
    "    plt.ylim(0, 200)\n",
    "    \n",
    "    plt.xlabel('Data')\n",
    "    plt.ylabel('Time (s)')\n",
    "    plt.legend(loc=\"upper left\")\n",
    "    \n",
    "    # Displaying the plot\n",
    "    plt.savefig(f'performance.png',  \n",
    "            format='png',  \n",
    "            bbox_inches='tight',  \n",
    "            dpi=300  \n",
    "            )"
   ]
  },
  {
   "cell_type": "code",
   "execution_count": 62,
   "id": "a98e3550-eff2-4dad-892d-d2d8e496b80c",
   "metadata": {
    "editable": true,
    "slideshow": {
     "slide_type": ""
    },
    "tags": []
   },
   "outputs": [],
   "source": [
    "data_df.to_latex(\"performance.tex\", index=False, longtable=True)"
   ]
  },
  {
   "cell_type": "code",
   "execution_count": null,
   "id": "796751bd-9435-4bcb-8253-2bc4a26ba3df",
   "metadata": {
    "editable": true,
    "slideshow": {
     "slide_type": ""
    },
    "tags": []
   },
   "outputs": [],
   "source": []
  },
  {
   "cell_type": "code",
   "execution_count": null,
   "id": "eb6683c9-6006-4f70-8985-a61b1e7aaf20",
   "metadata": {},
   "outputs": [],
   "source": []
  }
 ],
 "metadata": {
  "kernelspec": {
   "display_name": "Python 3 (ipykernel)",
   "language": "python",
   "name": "python3"
  },
  "language_info": {
   "codemirror_mode": {
    "name": "ipython",
    "version": 3
   },
   "file_extension": ".py",
   "mimetype": "text/x-python",
   "name": "python",
   "nbconvert_exporter": "python",
   "pygments_lexer": "ipython3",
   "version": "3.10.13"
  }
 },
 "nbformat": 4,
 "nbformat_minor": 5
}
