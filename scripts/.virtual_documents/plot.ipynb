import matplotlib.pyplot as plt
import numpy as np
import pandas as pd 

import scienceplots




data_df  = pd.read_csv("../tables/pxblat_benchmark.tsv", sep="\t")
data = data_df['Data']
pxblat = data_df['PxBLAT (s)']
blat = data_df['BLAT (s)']


with plt.style.context('nature'):
    
    # Creating scatter plot
    plt.scatter(x=data, y=pxblat, color='blue', label='PxBLAT')
    plt.scatter(x=data, y=blat, color='red', label='BLAT')
    
    # Calculating trend lines
    z_pxblat = np.polyfit(data, pxblat, 1)
    p_pxblat = np.poly1d(z_pxblat)
    plt.plot(data, p_pxblat(data), "b--", linewidth=1.2, markersize=12)
    
    z_blat = np.polyfit(data, blat, 1)
    p_blat = np.poly1d(z_blat)
    plt.plot(data, p_blat(data), "r--", linewidth=1.2, markersize=12)
    
    
    # Calculate and annotate average speedup for each data group
    avg_speedup_per_data_group = data_df.groupby('Data')['Speedup'].mean()
    for data_point, avg_speedup in avg_speedup_per_data_group.items():
        plt.annotate(f"{avg_speedup:.2f}x", 
                     (data_point, min(data_df[data_df['Data'] == data_point]['PxBLAT (s)'])), 
                     textcoords="offset points", 
                     xytext=(0,-10), 
                     ha='center', 
                     fontsize=6,
                     color='k')
    
    
    # Adding titles and labels
    # plt.title('Perforamnce Compare Between PxBLAT and BLAT')
    
    plt.xticks([50, 100, 200, 300, 400, 500, 600])
    plt.ylim(0, 200)
    
    plt.xlabel('Data')
    plt.ylabel('Time (s)')
    plt.legend(loc="upper left")
    
    # Displaying the plot
    plt.savefig(f'performance.png',  
            format='png',  
            bbox_inches='tight',  
            dpi=300  
            )


data_df.to_latex("performance.tex", index=False, longtable=True)






